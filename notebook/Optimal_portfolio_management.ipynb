{
 "cells": [
  {
   "cell_type": "markdown",
   "source": [
    "# Importing libraries"
   ],
   "metadata": {
    "collapsed": false
   },
   "id": "e46a21aa8651037d"
  },
  {
   "cell_type": "code",
   "execution_count": 1,
   "outputs": [],
   "source": [
    "import os\n",
    "import pandas as pd\n",
    "\n",
    "os.chdir(\"..\")\n",
    "\n"
   ],
   "metadata": {
    "collapsed": false,
    "ExecuteTime": {
     "end_time": "2023-12-29T13:37:48.722954Z",
     "start_time": "2023-12-29T13:37:48.461596Z"
    }
   },
   "id": "initial_id"
  },
  {
   "cell_type": "markdown",
   "source": [
    "# Functions"
   ],
   "metadata": {
    "collapsed": false
   },
   "id": "84c87eb66e4eb230"
  },
  {
   "cell_type": "markdown",
   "source": [
    "## Data loading and preprocessing"
   ],
   "metadata": {
    "collapsed": false
   },
   "id": "9047fa0cc868f7ba"
  },
  {
   "cell_type": "code",
   "execution_count": 2,
   "outputs": [],
   "source": [
    "def create_global_dataset(path, min_days=150):\n",
    "    df_global = pd.DataFrame()\n",
    "    for file in os.listdir(path):\n",
    "        if file.split(\".\")[1] != \"csv\":\n",
    "            continue\n",
    "        df = pd.read_csv(path + file)\n",
    "        df[\"token\"] = file.split(\".\")[0]\n",
    "        df[\"timestamp\"] = pd.to_datetime(df[\"timestamp\"])\n",
    "        if len(df) > min_days:\n",
    "                df_global = pd.concat([df_global, df])\n",
    "    df_global.to_csv(f\"./data/df_global_{path.split('/')[-2]}.csv\", index=False)\n",
    "    return df_global\n"
   ],
   "metadata": {
    "collapsed": false,
    "ExecuteTime": {
     "end_time": "2023-12-29T13:37:50.434904Z",
     "start_time": "2023-12-29T13:37:50.431444Z"
    }
   },
   "id": "d0e27b3ff2d3336b"
  },
  {
   "cell_type": "code",
   "execution_count": 51,
   "outputs": [],
   "source": [
    "def compute_change(df, periods=7):\n",
    "    df[\"change_1d\"] = df.groupby(\"token\")[\"close\"].pct_change(periods=1).values\n",
    "    df[\"change_7d\"] = df.groupby(\"token\")[\"close\"].pct_change(periods=7).values\n",
    "    df[\"change_30d\"] = df.groupby(\"token\")[\"close\"].pct_change(periods=30).values\n",
    "    df[\"change_90d\"] = df.groupby(\"token\")[\"close\"].pct_change(periods=90).values\n",
    "    \n",
    "    df[\"volume_7d\"] = df.groupby(\"token\")[\"volume\"].rolling(window=7).sum().values\n",
    "    df[\"volume_30d\"] = df.groupby(\"token\")[\"volume\"].rolling(window=30).sum().values\n",
    "    df[\"volume_90d\"] = df.groupby(\"token\")[\"volume\"].rolling(window=90).sum().values\n",
    "\n",
    "    df[\"volume_change_7d\"] = df.groupby(\"token\")[\"volume\"].pct_change(periods=7).values\n",
    "    df[\"volume_change_30d\"] = df.groupby(\"token\")[\"volume\"].pct_change(periods=30).values\n",
    "    df[\"volume_change_90d\"] = df.groupby(\"token\")[\"volume\"].pct_change(periods=90).values\n",
    "    return df"
   ],
   "metadata": {
    "collapsed": false,
    "ExecuteTime": {
     "end_time": "2023-12-29T14:24:00.357417Z",
     "start_time": "2023-12-29T14:24:00.353334Z"
    }
   },
   "id": "d08fa9f5c463ddc8"
  },
  {
   "cell_type": "code",
   "execution_count": 58,
   "outputs": [],
   "source": [
    "def select_top10_asset(df):\n",
    "    df = df.loc[df[\"timestamp\"] == df[\"timestamp\"].max()].drop_duplicates(subset=['token'], keep='first')\n",
    "    df = df.sort_values(by=[\"volume_30d\", \"change_30d\", \"change_90d\"], ascending=False)\n",
    "    return df[\"token\"].to_list()[:10]"
   ],
   "metadata": {
    "collapsed": false,
    "ExecuteTime": {
     "end_time": "2023-12-29T14:30:42.693456Z",
     "start_time": "2023-12-29T14:30:42.690769Z"
    }
   },
   "id": "e9a87220666835e8"
  },
  {
   "cell_type": "code",
   "execution_count": 52,
   "outputs": [],
   "source": [],
   "metadata": {
    "collapsed": false,
    "ExecuteTime": {
     "end_time": "2023-12-29T14:24:01.623686Z",
     "start_time": "2023-12-29T14:24:01.621928Z"
    }
   },
   "id": "a97458ffc8dfb40"
  },
  {
   "cell_type": "code",
   "execution_count": 52,
   "outputs": [],
   "source": [],
   "metadata": {
    "collapsed": false,
    "ExecuteTime": {
     "end_time": "2023-12-29T14:24:02.300234Z",
     "start_time": "2023-12-29T14:24:02.298992Z"
    }
   },
   "id": "2406d52fd2e37333"
  },
  {
   "cell_type": "markdown",
   "source": [
    "# Computing global dataset"
   ],
   "metadata": {
    "collapsed": false
   },
   "id": "712583faceadf3b7"
  },
  {
   "cell_type": "code",
   "execution_count": 53,
   "outputs": [],
   "source": [
    "df_global = create_global_dataset(\"./data/1d/\")\n"
   ],
   "metadata": {
    "collapsed": false,
    "ExecuteTime": {
     "end_time": "2023-12-29T14:24:04.639154Z",
     "start_time": "2023-12-29T14:24:03.294942Z"
    }
   },
   "id": "7f3ce03fb2195755"
  },
  {
   "cell_type": "code",
   "execution_count": 54,
   "outputs": [
    {
     "data": {
      "text/plain": "     timestamp     open     high      low    close       volume token  \\\n0   2019-09-29  0.03103  0.04400  0.03103  0.03556   25899875.5  HBAR   \n1   2019-09-30  0.03555  0.04745  0.03481  0.03780   40937695.7  HBAR   \n2   2019-10-01  0.03799  0.04000  0.03692  0.03876   16982421.3  HBAR   \n3   2019-10-02  0.03890  0.03967  0.03553  0.03750    8858024.3  HBAR   \n4   2019-10-03  0.03750  0.04025  0.03557  0.03750    8395022.7  HBAR   \n..         ...      ...      ...      ...      ...          ...   ...   \n495 2021-02-05  0.08978  0.09997  0.08944  0.09950  172481167.3  HBAR   \n496 2021-02-06  0.09950  0.11369  0.09800  0.10366  245991072.0  HBAR   \n497 2021-02-07  0.10349  0.10549  0.08953  0.09670  172635827.2  HBAR   \n498 2021-02-08  0.09653  0.10233  0.09310  0.10014  143688780.3  HBAR   \n499 2021-02-09  0.10013  0.11349  0.09771  0.10500  251453812.3  HBAR   \n\n     change_1d  change_7d  change_30d  change_90d    volume_7d    volume_30d  \\\n0          NaN        NaN         NaN         NaN          NaN           NaN   \n1     0.062992        NaN         NaN         NaN          NaN           NaN   \n2     0.025397        NaN         NaN         NaN          NaN           NaN   \n3    -0.032508        NaN         NaN         NaN          NaN           NaN   \n4     0.000000        NaN         NaN         NaN          NaN           NaN   \n..         ...        ...         ...         ...          ...           ...   \n495   0.105310   0.141841    1.595201    2.345662  41342184.03  1.340342e+08   \n496   0.041809   0.271746    1.710774    2.395349  62658019.93  1.557697e+08   \n497  -0.067143   0.171979    0.587588    2.068867  89876969.83  1.762846e+08   \n498   0.035574   0.123527    0.973591    2.185115  94809845.60  1.857034e+08   \n499   0.048532   0.126851    1.125076    2.143713  99405237.80  1.909735e+08   \n\n       volume_90d  volume_change_7d  volume_change_30d  volume_change_90d  \n0             NaN               NaN                NaN                NaN  \n1             NaN               NaN                NaN                NaN  \n2             NaN               NaN                NaN                NaN  \n3             NaN               NaN                NaN                NaN  \n4             NaN               NaN                NaN                NaN  \n..            ...               ...                ...                ...  \n495  5.651388e+08          0.043798          -0.172462           5.159736  \n496  5.851424e+08          0.487313           0.381961          27.316311  \n497  6.095681e+08         -0.435011          -0.841258          10.864017  \n498  6.182320e+08         -0.381739          -0.545657           3.633485  \n499  6.218086e+08         -0.135021           0.390953           1.913525  \n\n[500 rows x 17 columns]",
      "text/html": "<div>\n<style scoped>\n    .dataframe tbody tr th:only-of-type {\n        vertical-align: middle;\n    }\n\n    .dataframe tbody tr th {\n        vertical-align: top;\n    }\n\n    .dataframe thead th {\n        text-align: right;\n    }\n</style>\n<table border=\"1\" class=\"dataframe\">\n  <thead>\n    <tr style=\"text-align: right;\">\n      <th></th>\n      <th>timestamp</th>\n      <th>open</th>\n      <th>high</th>\n      <th>low</th>\n      <th>close</th>\n      <th>volume</th>\n      <th>token</th>\n      <th>change_1d</th>\n      <th>change_7d</th>\n      <th>change_30d</th>\n      <th>change_90d</th>\n      <th>volume_7d</th>\n      <th>volume_30d</th>\n      <th>volume_90d</th>\n      <th>volume_change_7d</th>\n      <th>volume_change_30d</th>\n      <th>volume_change_90d</th>\n    </tr>\n  </thead>\n  <tbody>\n    <tr>\n      <th>0</th>\n      <td>2019-09-29</td>\n      <td>0.03103</td>\n      <td>0.04400</td>\n      <td>0.03103</td>\n      <td>0.03556</td>\n      <td>25899875.5</td>\n      <td>HBAR</td>\n      <td>NaN</td>\n      <td>NaN</td>\n      <td>NaN</td>\n      <td>NaN</td>\n      <td>NaN</td>\n      <td>NaN</td>\n      <td>NaN</td>\n      <td>NaN</td>\n      <td>NaN</td>\n      <td>NaN</td>\n    </tr>\n    <tr>\n      <th>1</th>\n      <td>2019-09-30</td>\n      <td>0.03555</td>\n      <td>0.04745</td>\n      <td>0.03481</td>\n      <td>0.03780</td>\n      <td>40937695.7</td>\n      <td>HBAR</td>\n      <td>0.062992</td>\n      <td>NaN</td>\n      <td>NaN</td>\n      <td>NaN</td>\n      <td>NaN</td>\n      <td>NaN</td>\n      <td>NaN</td>\n      <td>NaN</td>\n      <td>NaN</td>\n      <td>NaN</td>\n    </tr>\n    <tr>\n      <th>2</th>\n      <td>2019-10-01</td>\n      <td>0.03799</td>\n      <td>0.04000</td>\n      <td>0.03692</td>\n      <td>0.03876</td>\n      <td>16982421.3</td>\n      <td>HBAR</td>\n      <td>0.025397</td>\n      <td>NaN</td>\n      <td>NaN</td>\n      <td>NaN</td>\n      <td>NaN</td>\n      <td>NaN</td>\n      <td>NaN</td>\n      <td>NaN</td>\n      <td>NaN</td>\n      <td>NaN</td>\n    </tr>\n    <tr>\n      <th>3</th>\n      <td>2019-10-02</td>\n      <td>0.03890</td>\n      <td>0.03967</td>\n      <td>0.03553</td>\n      <td>0.03750</td>\n      <td>8858024.3</td>\n      <td>HBAR</td>\n      <td>-0.032508</td>\n      <td>NaN</td>\n      <td>NaN</td>\n      <td>NaN</td>\n      <td>NaN</td>\n      <td>NaN</td>\n      <td>NaN</td>\n      <td>NaN</td>\n      <td>NaN</td>\n      <td>NaN</td>\n    </tr>\n    <tr>\n      <th>4</th>\n      <td>2019-10-03</td>\n      <td>0.03750</td>\n      <td>0.04025</td>\n      <td>0.03557</td>\n      <td>0.03750</td>\n      <td>8395022.7</td>\n      <td>HBAR</td>\n      <td>0.000000</td>\n      <td>NaN</td>\n      <td>NaN</td>\n      <td>NaN</td>\n      <td>NaN</td>\n      <td>NaN</td>\n      <td>NaN</td>\n      <td>NaN</td>\n      <td>NaN</td>\n      <td>NaN</td>\n    </tr>\n    <tr>\n      <th>...</th>\n      <td>...</td>\n      <td>...</td>\n      <td>...</td>\n      <td>...</td>\n      <td>...</td>\n      <td>...</td>\n      <td>...</td>\n      <td>...</td>\n      <td>...</td>\n      <td>...</td>\n      <td>...</td>\n      <td>...</td>\n      <td>...</td>\n      <td>...</td>\n      <td>...</td>\n      <td>...</td>\n      <td>...</td>\n    </tr>\n    <tr>\n      <th>495</th>\n      <td>2021-02-05</td>\n      <td>0.08978</td>\n      <td>0.09997</td>\n      <td>0.08944</td>\n      <td>0.09950</td>\n      <td>172481167.3</td>\n      <td>HBAR</td>\n      <td>0.105310</td>\n      <td>0.141841</td>\n      <td>1.595201</td>\n      <td>2.345662</td>\n      <td>41342184.03</td>\n      <td>1.340342e+08</td>\n      <td>5.651388e+08</td>\n      <td>0.043798</td>\n      <td>-0.172462</td>\n      <td>5.159736</td>\n    </tr>\n    <tr>\n      <th>496</th>\n      <td>2021-02-06</td>\n      <td>0.09950</td>\n      <td>0.11369</td>\n      <td>0.09800</td>\n      <td>0.10366</td>\n      <td>245991072.0</td>\n      <td>HBAR</td>\n      <td>0.041809</td>\n      <td>0.271746</td>\n      <td>1.710774</td>\n      <td>2.395349</td>\n      <td>62658019.93</td>\n      <td>1.557697e+08</td>\n      <td>5.851424e+08</td>\n      <td>0.487313</td>\n      <td>0.381961</td>\n      <td>27.316311</td>\n    </tr>\n    <tr>\n      <th>497</th>\n      <td>2021-02-07</td>\n      <td>0.10349</td>\n      <td>0.10549</td>\n      <td>0.08953</td>\n      <td>0.09670</td>\n      <td>172635827.2</td>\n      <td>HBAR</td>\n      <td>-0.067143</td>\n      <td>0.171979</td>\n      <td>0.587588</td>\n      <td>2.068867</td>\n      <td>89876969.83</td>\n      <td>1.762846e+08</td>\n      <td>6.095681e+08</td>\n      <td>-0.435011</td>\n      <td>-0.841258</td>\n      <td>10.864017</td>\n    </tr>\n    <tr>\n      <th>498</th>\n      <td>2021-02-08</td>\n      <td>0.09653</td>\n      <td>0.10233</td>\n      <td>0.09310</td>\n      <td>0.10014</td>\n      <td>143688780.3</td>\n      <td>HBAR</td>\n      <td>0.035574</td>\n      <td>0.123527</td>\n      <td>0.973591</td>\n      <td>2.185115</td>\n      <td>94809845.60</td>\n      <td>1.857034e+08</td>\n      <td>6.182320e+08</td>\n      <td>-0.381739</td>\n      <td>-0.545657</td>\n      <td>3.633485</td>\n    </tr>\n    <tr>\n      <th>499</th>\n      <td>2021-02-09</td>\n      <td>0.10013</td>\n      <td>0.11349</td>\n      <td>0.09771</td>\n      <td>0.10500</td>\n      <td>251453812.3</td>\n      <td>HBAR</td>\n      <td>0.048532</td>\n      <td>0.126851</td>\n      <td>1.125076</td>\n      <td>2.143713</td>\n      <td>99405237.80</td>\n      <td>1.909735e+08</td>\n      <td>6.218086e+08</td>\n      <td>-0.135021</td>\n      <td>0.390953</td>\n      <td>1.913525</td>\n    </tr>\n  </tbody>\n</table>\n<p>500 rows × 17 columns</p>\n</div>"
     },
     "execution_count": 54,
     "metadata": {},
     "output_type": "execute_result"
    }
   ],
   "source": [
    "df_global = compute_change(df_global)\n",
    "df_global.head(500)\n"
   ],
   "metadata": {
    "collapsed": false,
    "ExecuteTime": {
     "end_time": "2023-12-29T14:24:12.893671Z",
     "start_time": "2023-12-29T14:24:12.651928Z"
    }
   },
   "id": "1636537d4a6822e7"
  },
  {
   "cell_type": "code",
   "execution_count": 59,
   "outputs": [],
   "source": [
    "asset_selected = [\"USDT\", \"BTC\", \"ETH\", \"BNB\", \"SOL\", \"XRP\", \"ADA\", \"AVAX\", \"DOT\", \"MATIC\"] + select_top10_asset(df_global)\n",
    "df_global = df_global.loc[df_global[\"token\"].isin(asset_selected)]"
   ],
   "metadata": {
    "collapsed": false,
    "ExecuteTime": {
     "end_time": "2023-12-29T14:33:04.755814Z",
     "start_time": "2023-12-29T14:33:04.730803Z"
    }
   },
   "id": "620448936e7f5d65"
  },
  {
   "cell_type": "code",
   "execution_count": null,
   "outputs": [],
   "source": [],
   "metadata": {
    "collapsed": false
   },
   "id": "258bcfd7fdd9a416"
  }
 ],
 "metadata": {
  "kernelspec": {
   "display_name": "Python 3",
   "language": "python",
   "name": "python3"
  },
  "language_info": {
   "codemirror_mode": {
    "name": "ipython",
    "version": 2
   },
   "file_extension": ".py",
   "mimetype": "text/x-python",
   "name": "python",
   "nbconvert_exporter": "python",
   "pygments_lexer": "ipython2",
   "version": "2.7.6"
  }
 },
 "nbformat": 4,
 "nbformat_minor": 5
}
