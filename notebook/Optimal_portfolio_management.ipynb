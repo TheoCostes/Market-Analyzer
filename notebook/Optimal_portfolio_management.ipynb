{
 "cells": [
  {
   "cell_type": "markdown",
   "source": [
    "# Importing libraries"
   ],
   "metadata": {
    "collapsed": false
   },
   "id": "e46a21aa8651037d"
  },
  {
   "cell_type": "code",
   "execution_count": 1,
   "outputs": [],
   "source": [
    "import os\n",
    "import pandas as pd\n",
    "\n",
    "os.chdir(\"..\")\n",
    "\n"
   ],
   "metadata": {
    "collapsed": false,
    "ExecuteTime": {
     "end_time": "2023-12-29T13:37:48.722954Z",
     "start_time": "2023-12-29T13:37:48.461596Z"
    }
   },
   "id": "initial_id"
  },
  {
   "cell_type": "markdown",
   "source": [
    "# Functions"
   ],
   "metadata": {
    "collapsed": false
   },
   "id": "84c87eb66e4eb230"
  },
  {
   "cell_type": "markdown",
   "source": [
    "## Data loading and preprocessing"
   ],
   "metadata": {
    "collapsed": false
   },
   "id": "9047fa0cc868f7ba"
  },
  {
   "cell_type": "code",
   "execution_count": null,
   "outputs": [],
   "source": [],
   "metadata": {
    "collapsed": false
   },
   "id": "6ed5e0c3bc423cab"
  },
  {
   "cell_type": "code",
   "execution_count": 95,
   "outputs": [],
   "source": [
    "MIN_DATE = \"2017-08-17 00:00:00\"\n",
    "\n",
    "def fill_to_min_date(df, min_date, default_values):\n",
    "    min_date = pd.to_datetime(min_date)\n",
    "    df['timestamp'] = pd.to_datetime(df['timestamp'])\n",
    "    last_date = df['timestamp'].min()\n",
    "\n",
    "    if last_date > min_date:\n",
    "        date_range = pd.date_range(start=min_date, end=last_date - pd.Timedelta(days=1))\n",
    "        df_default = pd.DataFrame(date_range, columns=['timestamp'])\n",
    "        for column in [\"open\", \"high\", \"low\", \"close\", \"volume\", \"token\"]:\n",
    "            df_default[column] = default_values[column]\n",
    "        df = pd.concat([df_default, df])\n",
    "    \n",
    "    df = df.sort_values(by='timestamp')\n",
    "    return df\n",
    "\n",
    "def create_global_dataset(path, min_days=150):\n",
    "    df_global = pd.DataFrame()\n",
    "    for file in os.listdir(path):\n",
    "        if file.split(\".\")[1] != \"csv\":\n",
    "            continue\n",
    "        df = pd.read_csv(path + file)\n",
    "        df[\"token\"] = file.split(\".\")[0]\n",
    "        df[\"timestamp\"] = pd.to_datetime(df[\"timestamp\"])\n",
    "        default_values = {\n",
    "            \"open\": 0,\n",
    "            \"high\": 0,\n",
    "            \"low\": 0,\n",
    "            \"close\": 0,\n",
    "            \"volume\": 0,\n",
    "            \"token\": file.split(\".\")[0]\n",
    "        }\n",
    "        df = fill_to_min_date(df, MIN_DATE, default_values)\n",
    "        if len(df) > min_days:\n",
    "                df_global = pd.concat([df_global, df])\n",
    "    df_global.to_csv(f\"./data/df_global_{path.split('/')[-2]}.csv\", index=False)\n",
    "    return df_global\n"
   ],
   "metadata": {
    "collapsed": false,
    "ExecuteTime": {
     "end_time": "2023-12-29T17:12:43.146644Z",
     "start_time": "2023-12-29T17:12:43.137985Z"
    }
   },
   "id": "d0e27b3ff2d3336b"
  },
  {
   "cell_type": "code",
   "execution_count": 96,
   "outputs": [],
   "source": [
    "def compute_change(df, periods=7):\n",
    "    df[\"change_1d\"] = df.groupby(\"token\")[\"close\"].pct_change(periods=1).values\n",
    "    df[\"change_7d\"] = df.groupby(\"token\")[\"close\"].pct_change(periods=7).values\n",
    "    df[\"change_30d\"] = df.groupby(\"token\")[\"close\"].pct_change(periods=30).values\n",
    "    df[\"change_90d\"] = df.groupby(\"token\")[\"close\"].pct_change(periods=90).values\n",
    "    \n",
    "    df[\"volume_7d\"] = df.groupby(\"token\")[\"volume\"].rolling(window=7).sum().values\n",
    "    df[\"volume_30d\"] = df.groupby(\"token\")[\"volume\"].rolling(window=30).sum().values\n",
    "    df[\"volume_90d\"] = df.groupby(\"token\")[\"volume\"].rolling(window=90).sum().values\n",
    "\n",
    "    df[\"volume_change_7d\"] = df.groupby(\"token\")[\"volume\"].pct_change(periods=7).values\n",
    "    df[\"volume_change_30d\"] = df.groupby(\"token\")[\"volume\"].pct_change(periods=30).values\n",
    "    df[\"volume_change_90d\"] = df.groupby(\"token\")[\"volume\"].pct_change(periods=90).values\n",
    "    return df"
   ],
   "metadata": {
    "collapsed": false,
    "ExecuteTime": {
     "end_time": "2023-12-29T17:12:43.397994Z",
     "start_time": "2023-12-29T17:12:43.388677Z"
    }
   },
   "id": "d08fa9f5c463ddc8"
  },
  {
   "cell_type": "code",
   "execution_count": 97,
   "outputs": [],
   "source": [
    "def select_top10_asset(df):\n",
    "    df = df.loc[df[\"timestamp\"] == df[\"timestamp\"].max()].drop_duplicates(subset=['token'], keep='first')\n",
    "    df = df.sort_values(by=[\"volume_30d\", \"change_30d\", \"change_90d\"], ascending=False)\n",
    "    return df[\"token\"].to_list()[:10]"
   ],
   "metadata": {
    "collapsed": false,
    "ExecuteTime": {
     "end_time": "2023-12-29T17:12:43.590207Z",
     "start_time": "2023-12-29T17:12:43.582923Z"
    }
   },
   "id": "e9a87220666835e8"
  },
  {
   "cell_type": "code",
   "execution_count": 97,
   "outputs": [],
   "source": [],
   "metadata": {
    "collapsed": false,
    "ExecuteTime": {
     "end_time": "2023-12-29T17:12:44.033557Z",
     "start_time": "2023-12-29T17:12:44.032183Z"
    }
   },
   "id": "a97458ffc8dfb40"
  },
  {
   "cell_type": "code",
   "execution_count": 114,
   "outputs": [],
   "source": [
    "def create_multiIndex(df):\n",
    "    df = df[[\"token\", \"timestamp\", \"open\", \"high\", \"low\", \"close\", \"volume\"]]\n",
    "    df = df.pivot_table(columns=\"token\", values=[\"open\", \"high\", \"low\", \"close\", \"volume\"], index=\"timestamp\")\n",
    "    return df"
   ],
   "metadata": {
    "collapsed": false,
    "ExecuteTime": {
     "end_time": "2023-12-29T17:25:46.684837Z",
     "start_time": "2023-12-29T17:25:46.665725Z"
    }
   },
   "id": "2406d52fd2e37333"
  },
  {
   "cell_type": "markdown",
   "source": [
    "# Computing global dataset"
   ],
   "metadata": {
    "collapsed": false
   },
   "id": "712583faceadf3b7"
  },
  {
   "cell_type": "code",
   "execution_count": 115,
   "outputs": [],
   "source": [
    "df_global = create_global_dataset(\"./data/1d/\")\n"
   ],
   "metadata": {
    "collapsed": false,
    "ExecuteTime": {
     "end_time": "2023-12-29T17:25:52.694590Z",
     "start_time": "2023-12-29T17:25:48.058530Z"
    }
   },
   "id": "7f3ce03fb2195755"
  },
  {
   "cell_type": "code",
   "execution_count": 116,
   "outputs": [
    {
     "data": {
      "text/plain": "     timestamp  open  high  low  close  volume token  change_1d  change_7d  \\\n0   2017-08-17   0.0   0.0  0.0    0.0     0.0  HBAR        NaN        NaN   \n1   2017-08-18   0.0   0.0  0.0    0.0     0.0  HBAR        NaN        NaN   \n2   2017-08-19   0.0   0.0  0.0    0.0     0.0  HBAR        NaN        NaN   \n3   2017-08-20   0.0   0.0  0.0    0.0     0.0  HBAR        NaN        NaN   \n4   2017-08-21   0.0   0.0  0.0    0.0     0.0  HBAR        NaN        NaN   \n..         ...   ...   ...  ...    ...     ...   ...        ...        ...   \n495 2018-12-25   0.0   0.0  0.0    0.0     0.0  HBAR        NaN        NaN   \n496 2018-12-26   0.0   0.0  0.0    0.0     0.0  HBAR        NaN        NaN   \n497 2018-12-27   0.0   0.0  0.0    0.0     0.0  HBAR        NaN        NaN   \n498 2018-12-28   0.0   0.0  0.0    0.0     0.0  HBAR        NaN        NaN   \n499 2018-12-29   0.0   0.0  0.0    0.0     0.0  HBAR        NaN        NaN   \n\n     change_30d  change_90d  volume_7d  volume_30d  volume_90d  \\\n0           NaN         NaN        NaN         NaN         NaN   \n1           NaN         NaN        NaN         NaN         NaN   \n2           NaN         NaN        NaN         NaN         NaN   \n3           NaN         NaN        NaN         NaN         NaN   \n4           NaN         NaN        NaN         NaN         NaN   \n..          ...         ...        ...         ...         ...   \n495         NaN         NaN        0.0         0.0         0.0   \n496         NaN         NaN        0.0         0.0         0.0   \n497         NaN         NaN        0.0         0.0         0.0   \n498         NaN         NaN        0.0         0.0         0.0   \n499         NaN         NaN        0.0         0.0         0.0   \n\n     volume_change_7d  volume_change_30d  volume_change_90d  \n0                 NaN                NaN                NaN  \n1                 NaN                NaN                NaN  \n2                 NaN                NaN                NaN  \n3                 NaN                NaN                NaN  \n4                 NaN                NaN                NaN  \n..                ...                ...                ...  \n495               NaN                NaN                NaN  \n496               NaN                NaN                NaN  \n497               NaN                NaN                NaN  \n498               NaN                NaN                NaN  \n499               NaN                NaN                NaN  \n\n[500 rows x 17 columns]",
      "text/html": "<div>\n<style scoped>\n    .dataframe tbody tr th:only-of-type {\n        vertical-align: middle;\n    }\n\n    .dataframe tbody tr th {\n        vertical-align: top;\n    }\n\n    .dataframe thead th {\n        text-align: right;\n    }\n</style>\n<table border=\"1\" class=\"dataframe\">\n  <thead>\n    <tr style=\"text-align: right;\">\n      <th></th>\n      <th>timestamp</th>\n      <th>open</th>\n      <th>high</th>\n      <th>low</th>\n      <th>close</th>\n      <th>volume</th>\n      <th>token</th>\n      <th>change_1d</th>\n      <th>change_7d</th>\n      <th>change_30d</th>\n      <th>change_90d</th>\n      <th>volume_7d</th>\n      <th>volume_30d</th>\n      <th>volume_90d</th>\n      <th>volume_change_7d</th>\n      <th>volume_change_30d</th>\n      <th>volume_change_90d</th>\n    </tr>\n  </thead>\n  <tbody>\n    <tr>\n      <th>0</th>\n      <td>2017-08-17</td>\n      <td>0.0</td>\n      <td>0.0</td>\n      <td>0.0</td>\n      <td>0.0</td>\n      <td>0.0</td>\n      <td>HBAR</td>\n      <td>NaN</td>\n      <td>NaN</td>\n      <td>NaN</td>\n      <td>NaN</td>\n      <td>NaN</td>\n      <td>NaN</td>\n      <td>NaN</td>\n      <td>NaN</td>\n      <td>NaN</td>\n      <td>NaN</td>\n    </tr>\n    <tr>\n      <th>1</th>\n      <td>2017-08-18</td>\n      <td>0.0</td>\n      <td>0.0</td>\n      <td>0.0</td>\n      <td>0.0</td>\n      <td>0.0</td>\n      <td>HBAR</td>\n      <td>NaN</td>\n      <td>NaN</td>\n      <td>NaN</td>\n      <td>NaN</td>\n      <td>NaN</td>\n      <td>NaN</td>\n      <td>NaN</td>\n      <td>NaN</td>\n      <td>NaN</td>\n      <td>NaN</td>\n    </tr>\n    <tr>\n      <th>2</th>\n      <td>2017-08-19</td>\n      <td>0.0</td>\n      <td>0.0</td>\n      <td>0.0</td>\n      <td>0.0</td>\n      <td>0.0</td>\n      <td>HBAR</td>\n      <td>NaN</td>\n      <td>NaN</td>\n      <td>NaN</td>\n      <td>NaN</td>\n      <td>NaN</td>\n      <td>NaN</td>\n      <td>NaN</td>\n      <td>NaN</td>\n      <td>NaN</td>\n      <td>NaN</td>\n    </tr>\n    <tr>\n      <th>3</th>\n      <td>2017-08-20</td>\n      <td>0.0</td>\n      <td>0.0</td>\n      <td>0.0</td>\n      <td>0.0</td>\n      <td>0.0</td>\n      <td>HBAR</td>\n      <td>NaN</td>\n      <td>NaN</td>\n      <td>NaN</td>\n      <td>NaN</td>\n      <td>NaN</td>\n      <td>NaN</td>\n      <td>NaN</td>\n      <td>NaN</td>\n      <td>NaN</td>\n      <td>NaN</td>\n    </tr>\n    <tr>\n      <th>4</th>\n      <td>2017-08-21</td>\n      <td>0.0</td>\n      <td>0.0</td>\n      <td>0.0</td>\n      <td>0.0</td>\n      <td>0.0</td>\n      <td>HBAR</td>\n      <td>NaN</td>\n      <td>NaN</td>\n      <td>NaN</td>\n      <td>NaN</td>\n      <td>NaN</td>\n      <td>NaN</td>\n      <td>NaN</td>\n      <td>NaN</td>\n      <td>NaN</td>\n      <td>NaN</td>\n    </tr>\n    <tr>\n      <th>...</th>\n      <td>...</td>\n      <td>...</td>\n      <td>...</td>\n      <td>...</td>\n      <td>...</td>\n      <td>...</td>\n      <td>...</td>\n      <td>...</td>\n      <td>...</td>\n      <td>...</td>\n      <td>...</td>\n      <td>...</td>\n      <td>...</td>\n      <td>...</td>\n      <td>...</td>\n      <td>...</td>\n      <td>...</td>\n    </tr>\n    <tr>\n      <th>495</th>\n      <td>2018-12-25</td>\n      <td>0.0</td>\n      <td>0.0</td>\n      <td>0.0</td>\n      <td>0.0</td>\n      <td>0.0</td>\n      <td>HBAR</td>\n      <td>NaN</td>\n      <td>NaN</td>\n      <td>NaN</td>\n      <td>NaN</td>\n      <td>0.0</td>\n      <td>0.0</td>\n      <td>0.0</td>\n      <td>NaN</td>\n      <td>NaN</td>\n      <td>NaN</td>\n    </tr>\n    <tr>\n      <th>496</th>\n      <td>2018-12-26</td>\n      <td>0.0</td>\n      <td>0.0</td>\n      <td>0.0</td>\n      <td>0.0</td>\n      <td>0.0</td>\n      <td>HBAR</td>\n      <td>NaN</td>\n      <td>NaN</td>\n      <td>NaN</td>\n      <td>NaN</td>\n      <td>0.0</td>\n      <td>0.0</td>\n      <td>0.0</td>\n      <td>NaN</td>\n      <td>NaN</td>\n      <td>NaN</td>\n    </tr>\n    <tr>\n      <th>497</th>\n      <td>2018-12-27</td>\n      <td>0.0</td>\n      <td>0.0</td>\n      <td>0.0</td>\n      <td>0.0</td>\n      <td>0.0</td>\n      <td>HBAR</td>\n      <td>NaN</td>\n      <td>NaN</td>\n      <td>NaN</td>\n      <td>NaN</td>\n      <td>0.0</td>\n      <td>0.0</td>\n      <td>0.0</td>\n      <td>NaN</td>\n      <td>NaN</td>\n      <td>NaN</td>\n    </tr>\n    <tr>\n      <th>498</th>\n      <td>2018-12-28</td>\n      <td>0.0</td>\n      <td>0.0</td>\n      <td>0.0</td>\n      <td>0.0</td>\n      <td>0.0</td>\n      <td>HBAR</td>\n      <td>NaN</td>\n      <td>NaN</td>\n      <td>NaN</td>\n      <td>NaN</td>\n      <td>0.0</td>\n      <td>0.0</td>\n      <td>0.0</td>\n      <td>NaN</td>\n      <td>NaN</td>\n      <td>NaN</td>\n    </tr>\n    <tr>\n      <th>499</th>\n      <td>2018-12-29</td>\n      <td>0.0</td>\n      <td>0.0</td>\n      <td>0.0</td>\n      <td>0.0</td>\n      <td>0.0</td>\n      <td>HBAR</td>\n      <td>NaN</td>\n      <td>NaN</td>\n      <td>NaN</td>\n      <td>NaN</td>\n      <td>0.0</td>\n      <td>0.0</td>\n      <td>0.0</td>\n      <td>NaN</td>\n      <td>NaN</td>\n      <td>NaN</td>\n    </tr>\n  </tbody>\n</table>\n<p>500 rows × 17 columns</p>\n</div>"
     },
     "execution_count": 116,
     "metadata": {},
     "output_type": "execute_result"
    }
   ],
   "source": [
    "df_global = compute_change(df_global)\n",
    "df_global.head(500)\n"
   ],
   "metadata": {
    "collapsed": false,
    "ExecuteTime": {
     "end_time": "2023-12-29T17:25:53.210014Z",
     "start_time": "2023-12-29T17:25:52.698850Z"
    }
   },
   "id": "1636537d4a6822e7"
  },
  {
   "cell_type": "code",
   "execution_count": 117,
   "outputs": [
    {
     "data": {
      "text/plain": "Timestamp('2017-08-17 00:00:00')"
     },
     "execution_count": 117,
     "metadata": {},
     "output_type": "execute_result"
    }
   ],
   "source": [
    "min(df_global[\"timestamp\"])"
   ],
   "metadata": {
    "collapsed": false,
    "ExecuteTime": {
     "end_time": "2023-12-29T17:25:54.127345Z",
     "start_time": "2023-12-29T17:25:53.312450Z"
    }
   },
   "id": "f067e7683cf1601f"
  },
  {
   "cell_type": "code",
   "execution_count": 127,
   "outputs": [],
   "source": [
    "asset_selected = list(set([\"BTC\", \"ETH\", \"BNB\", \"SOL\", \"XRP\", \"ADA\", \"AVAX\", \"DOT\", \"MATIC\"] + select_top10_asset(df_global)))\n",
    "df_global = df_global.loc[df_global[\"token\"].isin(asset_selected)].reset_index(drop=True)"
   ],
   "metadata": {
    "collapsed": false,
    "ExecuteTime": {
     "end_time": "2023-12-29T17:33:15.278086Z",
     "start_time": "2023-12-29T17:33:15.263371Z"
    }
   },
   "id": "620448936e7f5d65"
  },
  {
   "cell_type": "code",
   "execution_count": 128,
   "outputs": [
    {
     "data": {
      "text/plain": "['BCH',\n 'BTC',\n 'ETH',\n 'NTRN',\n 'ADA',\n 'MATIC',\n 'RARE',\n 'C98',\n 'BNB',\n 'SOL',\n 'LQTY',\n 'HFT',\n 'ID',\n 'DOT',\n 'XRP',\n 'APE',\n 'HBAR',\n 'GLM',\n 'AVAX']"
     },
     "execution_count": 128,
     "metadata": {},
     "output_type": "execute_result"
    }
   ],
   "source": [
    "asset_selected"
   ],
   "metadata": {
    "collapsed": false,
    "ExecuteTime": {
     "end_time": "2023-12-29T17:33:16.369966Z",
     "start_time": "2023-12-29T17:33:16.368025Z"
    }
   },
   "id": "14cfbad082b60851"
  },
  {
   "cell_type": "code",
   "execution_count": 129,
   "outputs": [
    {
     "data": {
      "text/plain": "              close                                                         \\\ntoken           ADA  APE AVAX  BCH     BNB      BTC  C98  DOT     ETH  GLM   \ntimestamp                                                                    \n2017-08-17  0.00000  0.0  0.0  0.0  0.0000  4285.08  0.0  0.0  302.00  0.0   \n2017-08-18  0.00000  0.0  0.0  0.0  0.0000  4108.37  0.0  0.0  293.96  0.0   \n2017-08-19  0.00000  0.0  0.0  0.0  0.0000  4139.98  0.0  0.0  290.91  0.0   \n2017-08-20  0.00000  0.0  0.0  0.0  0.0000  4086.29  0.0  0.0  299.10  0.0   \n2017-08-21  0.00000  0.0  0.0  0.0  0.0000  4016.00  0.0  0.0  323.29  0.0   \n...             ...  ...  ...  ...     ...      ...  ...  ...     ...  ...   \n2018-12-25  0.04107  0.0  0.0  0.0  5.4500  3745.79  0.0  0.0  127.60  0.0   \n2018-12-26  0.04060  0.0  0.0  0.0  5.6029  3777.74  0.0  0.0  129.35  0.0   \n2018-12-27  0.03611  0.0  0.0  0.0  5.1791  3567.91  0.0  0.0  113.80  0.0   \n2018-12-28  0.04111  0.0  0.0  0.0  5.8811  3839.26  0.0  0.0  135.30  0.0   \n2018-12-29  0.04049  0.0  0.0  0.0  5.6600  3695.32  0.0  0.0  132.89  0.0   \n\n            ... volume                                                        \ntoken       ...    GLM HBAR  HFT   ID LQTY MATIC NTRN RARE  SOL          XRP  \ntimestamp   ...                                                               \n2017-08-17  ...    0.0  0.0  0.0  0.0  0.0   0.0  0.0  0.0  0.0          0.0  \n2017-08-18  ...    0.0  0.0  0.0  0.0  0.0   0.0  0.0  0.0  0.0          0.0  \n2017-08-19  ...    0.0  0.0  0.0  0.0  0.0   0.0  0.0  0.0  0.0          0.0  \n2017-08-20  ...    0.0  0.0  0.0  0.0  0.0   0.0  0.0  0.0  0.0          0.0  \n2017-08-21  ...    0.0  0.0  0.0  0.0  0.0   0.0  0.0  0.0  0.0          0.0  \n...         ...    ...  ...  ...  ...  ...   ...  ...  ...  ...          ...  \n2018-12-25  ...    0.0  0.0  0.0  0.0  0.0   0.0  0.0  0.0  0.0  190479475.6  \n2018-12-26  ...    0.0  0.0  0.0  0.0  0.0   0.0  0.0  0.0  0.0  115977475.4  \n2018-12-27  ...    0.0  0.0  0.0  0.0  0.0   0.0  0.0  0.0  0.0  113118482.1  \n2018-12-28  ...    0.0  0.0  0.0  0.0  0.0   0.0  0.0  0.0  0.0  133220344.3  \n2018-12-29  ...    0.0  0.0  0.0  0.0  0.0   0.0  0.0  0.0  0.0  105406488.5  \n\n[500 rows x 95 columns]",
      "text/html": "<div>\n<style scoped>\n    .dataframe tbody tr th:only-of-type {\n        vertical-align: middle;\n    }\n\n    .dataframe tbody tr th {\n        vertical-align: top;\n    }\n\n    .dataframe thead tr th {\n        text-align: left;\n    }\n\n    .dataframe thead tr:last-of-type th {\n        text-align: right;\n    }\n</style>\n<table border=\"1\" class=\"dataframe\">\n  <thead>\n    <tr>\n      <th></th>\n      <th colspan=\"10\" halign=\"left\">close</th>\n      <th>...</th>\n      <th colspan=\"10\" halign=\"left\">volume</th>\n    </tr>\n    <tr>\n      <th>token</th>\n      <th>ADA</th>\n      <th>APE</th>\n      <th>AVAX</th>\n      <th>BCH</th>\n      <th>BNB</th>\n      <th>BTC</th>\n      <th>C98</th>\n      <th>DOT</th>\n      <th>ETH</th>\n      <th>GLM</th>\n      <th>...</th>\n      <th>GLM</th>\n      <th>HBAR</th>\n      <th>HFT</th>\n      <th>ID</th>\n      <th>LQTY</th>\n      <th>MATIC</th>\n      <th>NTRN</th>\n      <th>RARE</th>\n      <th>SOL</th>\n      <th>XRP</th>\n    </tr>\n    <tr>\n      <th>timestamp</th>\n      <th></th>\n      <th></th>\n      <th></th>\n      <th></th>\n      <th></th>\n      <th></th>\n      <th></th>\n      <th></th>\n      <th></th>\n      <th></th>\n      <th></th>\n      <th></th>\n      <th></th>\n      <th></th>\n      <th></th>\n      <th></th>\n      <th></th>\n      <th></th>\n      <th></th>\n      <th></th>\n      <th></th>\n    </tr>\n  </thead>\n  <tbody>\n    <tr>\n      <th>2017-08-17</th>\n      <td>0.00000</td>\n      <td>0.0</td>\n      <td>0.0</td>\n      <td>0.0</td>\n      <td>0.0000</td>\n      <td>4285.08</td>\n      <td>0.0</td>\n      <td>0.0</td>\n      <td>302.00</td>\n      <td>0.0</td>\n      <td>...</td>\n      <td>0.0</td>\n      <td>0.0</td>\n      <td>0.0</td>\n      <td>0.0</td>\n      <td>0.0</td>\n      <td>0.0</td>\n      <td>0.0</td>\n      <td>0.0</td>\n      <td>0.0</td>\n      <td>0.0</td>\n    </tr>\n    <tr>\n      <th>2017-08-18</th>\n      <td>0.00000</td>\n      <td>0.0</td>\n      <td>0.0</td>\n      <td>0.0</td>\n      <td>0.0000</td>\n      <td>4108.37</td>\n      <td>0.0</td>\n      <td>0.0</td>\n      <td>293.96</td>\n      <td>0.0</td>\n      <td>...</td>\n      <td>0.0</td>\n      <td>0.0</td>\n      <td>0.0</td>\n      <td>0.0</td>\n      <td>0.0</td>\n      <td>0.0</td>\n      <td>0.0</td>\n      <td>0.0</td>\n      <td>0.0</td>\n      <td>0.0</td>\n    </tr>\n    <tr>\n      <th>2017-08-19</th>\n      <td>0.00000</td>\n      <td>0.0</td>\n      <td>0.0</td>\n      <td>0.0</td>\n      <td>0.0000</td>\n      <td>4139.98</td>\n      <td>0.0</td>\n      <td>0.0</td>\n      <td>290.91</td>\n      <td>0.0</td>\n      <td>...</td>\n      <td>0.0</td>\n      <td>0.0</td>\n      <td>0.0</td>\n      <td>0.0</td>\n      <td>0.0</td>\n      <td>0.0</td>\n      <td>0.0</td>\n      <td>0.0</td>\n      <td>0.0</td>\n      <td>0.0</td>\n    </tr>\n    <tr>\n      <th>2017-08-20</th>\n      <td>0.00000</td>\n      <td>0.0</td>\n      <td>0.0</td>\n      <td>0.0</td>\n      <td>0.0000</td>\n      <td>4086.29</td>\n      <td>0.0</td>\n      <td>0.0</td>\n      <td>299.10</td>\n      <td>0.0</td>\n      <td>...</td>\n      <td>0.0</td>\n      <td>0.0</td>\n      <td>0.0</td>\n      <td>0.0</td>\n      <td>0.0</td>\n      <td>0.0</td>\n      <td>0.0</td>\n      <td>0.0</td>\n      <td>0.0</td>\n      <td>0.0</td>\n    </tr>\n    <tr>\n      <th>2017-08-21</th>\n      <td>0.00000</td>\n      <td>0.0</td>\n      <td>0.0</td>\n      <td>0.0</td>\n      <td>0.0000</td>\n      <td>4016.00</td>\n      <td>0.0</td>\n      <td>0.0</td>\n      <td>323.29</td>\n      <td>0.0</td>\n      <td>...</td>\n      <td>0.0</td>\n      <td>0.0</td>\n      <td>0.0</td>\n      <td>0.0</td>\n      <td>0.0</td>\n      <td>0.0</td>\n      <td>0.0</td>\n      <td>0.0</td>\n      <td>0.0</td>\n      <td>0.0</td>\n    </tr>\n    <tr>\n      <th>...</th>\n      <td>...</td>\n      <td>...</td>\n      <td>...</td>\n      <td>...</td>\n      <td>...</td>\n      <td>...</td>\n      <td>...</td>\n      <td>...</td>\n      <td>...</td>\n      <td>...</td>\n      <td>...</td>\n      <td>...</td>\n      <td>...</td>\n      <td>...</td>\n      <td>...</td>\n      <td>...</td>\n      <td>...</td>\n      <td>...</td>\n      <td>...</td>\n      <td>...</td>\n      <td>...</td>\n    </tr>\n    <tr>\n      <th>2018-12-25</th>\n      <td>0.04107</td>\n      <td>0.0</td>\n      <td>0.0</td>\n      <td>0.0</td>\n      <td>5.4500</td>\n      <td>3745.79</td>\n      <td>0.0</td>\n      <td>0.0</td>\n      <td>127.60</td>\n      <td>0.0</td>\n      <td>...</td>\n      <td>0.0</td>\n      <td>0.0</td>\n      <td>0.0</td>\n      <td>0.0</td>\n      <td>0.0</td>\n      <td>0.0</td>\n      <td>0.0</td>\n      <td>0.0</td>\n      <td>0.0</td>\n      <td>190479475.6</td>\n    </tr>\n    <tr>\n      <th>2018-12-26</th>\n      <td>0.04060</td>\n      <td>0.0</td>\n      <td>0.0</td>\n      <td>0.0</td>\n      <td>5.6029</td>\n      <td>3777.74</td>\n      <td>0.0</td>\n      <td>0.0</td>\n      <td>129.35</td>\n      <td>0.0</td>\n      <td>...</td>\n      <td>0.0</td>\n      <td>0.0</td>\n      <td>0.0</td>\n      <td>0.0</td>\n      <td>0.0</td>\n      <td>0.0</td>\n      <td>0.0</td>\n      <td>0.0</td>\n      <td>0.0</td>\n      <td>115977475.4</td>\n    </tr>\n    <tr>\n      <th>2018-12-27</th>\n      <td>0.03611</td>\n      <td>0.0</td>\n      <td>0.0</td>\n      <td>0.0</td>\n      <td>5.1791</td>\n      <td>3567.91</td>\n      <td>0.0</td>\n      <td>0.0</td>\n      <td>113.80</td>\n      <td>0.0</td>\n      <td>...</td>\n      <td>0.0</td>\n      <td>0.0</td>\n      <td>0.0</td>\n      <td>0.0</td>\n      <td>0.0</td>\n      <td>0.0</td>\n      <td>0.0</td>\n      <td>0.0</td>\n      <td>0.0</td>\n      <td>113118482.1</td>\n    </tr>\n    <tr>\n      <th>2018-12-28</th>\n      <td>0.04111</td>\n      <td>0.0</td>\n      <td>0.0</td>\n      <td>0.0</td>\n      <td>5.8811</td>\n      <td>3839.26</td>\n      <td>0.0</td>\n      <td>0.0</td>\n      <td>135.30</td>\n      <td>0.0</td>\n      <td>...</td>\n      <td>0.0</td>\n      <td>0.0</td>\n      <td>0.0</td>\n      <td>0.0</td>\n      <td>0.0</td>\n      <td>0.0</td>\n      <td>0.0</td>\n      <td>0.0</td>\n      <td>0.0</td>\n      <td>133220344.3</td>\n    </tr>\n    <tr>\n      <th>2018-12-29</th>\n      <td>0.04049</td>\n      <td>0.0</td>\n      <td>0.0</td>\n      <td>0.0</td>\n      <td>5.6600</td>\n      <td>3695.32</td>\n      <td>0.0</td>\n      <td>0.0</td>\n      <td>132.89</td>\n      <td>0.0</td>\n      <td>...</td>\n      <td>0.0</td>\n      <td>0.0</td>\n      <td>0.0</td>\n      <td>0.0</td>\n      <td>0.0</td>\n      <td>0.0</td>\n      <td>0.0</td>\n      <td>0.0</td>\n      <td>0.0</td>\n      <td>105406488.5</td>\n    </tr>\n  </tbody>\n</table>\n<p>500 rows × 95 columns</p>\n</div>"
     },
     "execution_count": 129,
     "metadata": {},
     "output_type": "execute_result"
    }
   ],
   "source": [
    "new_df = create_multiIndex(df_global)\n",
    "new_df.head(500)"
   ],
   "metadata": {
    "collapsed": false,
    "ExecuteTime": {
     "end_time": "2023-12-29T17:33:17.406670Z",
     "start_time": "2023-12-29T17:33:17.297559Z"
    }
   },
   "id": "258bcfd7fdd9a416"
  },
  {
   "cell_type": "code",
   "execution_count": 130,
   "outputs": [
    {
     "data": {
      "text/plain": "(2325, 95)"
     },
     "execution_count": 130,
     "metadata": {},
     "output_type": "execute_result"
    }
   ],
   "source": [
    "new_df.shape\n"
   ],
   "metadata": {
    "collapsed": false,
    "ExecuteTime": {
     "end_time": "2023-12-29T17:33:21.136858Z",
     "start_time": "2023-12-29T17:33:21.122596Z"
    }
   },
   "id": "af911233d7cd2967"
  },
  {
   "cell_type": "code",
   "execution_count": 131,
   "outputs": [],
   "source": [
    "new_df.columns = pd.MultiIndex.from_product([[\"open\", \"high\", \"low\", \"close\", \"volume\"], asset_selected], names=['price', \"asset\"])\n",
    "new_df = new_df.dropna()\n",
    "\n",
    "start = min(new_df.index.get_level_values(0))\n",
    "df_ = new_df.loc[start:]"
   ],
   "metadata": {
    "collapsed": false,
    "ExecuteTime": {
     "end_time": "2023-12-29T17:33:24.629712Z",
     "start_time": "2023-12-29T17:33:24.613186Z"
    }
   },
   "id": "dad330dd094ea553"
  },
  {
   "cell_type": "code",
   "execution_count": 123,
   "outputs": [
    {
     "data": {
      "text/plain": "100"
     },
     "execution_count": 123,
     "metadata": {},
     "output_type": "execute_result"
    }
   ],
   "source": [
    "len([\"open\", \"high\", \"low\", \"close\", \"volume\"])*len(asset_selected)"
   ],
   "metadata": {
    "collapsed": false,
    "ExecuteTime": {
     "end_time": "2023-12-29T17:29:26.906803Z",
     "start_time": "2023-12-29T17:29:26.901036Z"
    }
   },
   "id": "4a8e75c41af4b56"
  },
  {
   "cell_type": "code",
   "execution_count": 132,
   "outputs": [
    {
     "data": {
      "text/plain": "price         open                                                       \\\nasset          BCH    BTC    ETH   NTRN    ADA     MATIC    RARE    C98   \ntimestamp                                                                 \n2017-08-17  0.0000  0.000   0.00    0.0    0.0   4285.08  0.0000  0.000   \n2017-08-18  0.0000  0.000   0.00    0.0    0.0   4108.37  0.0000  0.000   \n2017-08-19  0.0000  0.000   0.00    0.0    0.0   4139.98  0.0000  0.000   \n2017-08-20  0.0000  0.000   0.00    0.0    0.0   4086.29  0.0000  0.000   \n2017-08-21  0.0000  0.000   0.00    0.0    0.0   4016.00  0.0000  0.000   \n...            ...    ...    ...    ...    ...       ...     ...    ...   \n2023-12-24  0.5919  1.702  47.68  228.9  264.5  42991.50  0.3017  8.611   \n2023-12-25  0.6242  1.797  48.18  234.8  266.9  43576.13  0.2891  9.191   \n2023-12-26  0.6087  1.711  44.41  229.3  297.7  42508.93  0.3082  8.819   \n2023-12-27  0.6334  1.773  42.39  264.1  324.1  43428.85  0.2913  8.694   \n2023-12-28  0.6245  1.716  39.81  265.8  332.9  42581.74  0.2815  8.445   \n\nprice                        ...     volume                           \\\nasset           BNB     SOL  ...        SOL         LQTY         HFT   \ntimestamp                    ...                                       \n2017-08-17   302.00  0.0000  ...        0.0          0.0         0.0   \n2017-08-18   293.96  0.0000  ...        0.0          0.0         0.0   \n2017-08-19   290.91  0.0000  ...        0.0          0.0         0.0   \n2017-08-20   299.10  0.0000  ...        0.0          0.0         0.0   \n2017-08-21   323.29  0.0000  ...        0.0          0.0         0.0   \n...             ...     ...  ...        ...          ...         ...   \n2023-12-24  2264.05  0.2479  ...  4596832.0  247203382.0  15947912.3   \n2023-12-25  2271.35  0.2530  ...  2183400.7  157809228.0  12783867.7   \n2023-12-26  2230.88  0.2468  ...  3408466.3  239716949.0  29207183.9   \n2023-12-27  2378.35  0.2495  ...  3171297.4  169753136.0  24177260.7   \n2023-12-28  2367.19  0.2442  ...  3042527.7  196524699.0  14692432.9   \n\nprice                                                                    \\\nasset               ID         DOT          XRP         APE        HBAR   \ntimestamp                                                                 \n2017-08-17         0.0         0.0          0.0         0.0         0.0   \n2017-08-18         0.0         0.0          0.0         0.0         0.0   \n2017-08-19         0.0         0.0          0.0         0.0         0.0   \n2017-08-20         0.0         0.0          0.0         0.0         0.0   \n2017-08-21         0.0         0.0          0.0         0.0         0.0   \n...                ...         ...          ...         ...         ...   \n2023-12-24  50390940.0   5332652.9  163945264.1  26722957.8  33730561.1   \n2023-12-25  28675751.0   4330988.8  156671024.8  26195786.5  40686659.3   \n2023-12-26  70437900.0   7530896.4  405110669.5  43424392.7  22809304.9   \n2023-12-27  38202913.0  13366733.5  388820801.4  15804968.4  25570243.8   \n2023-12-28  32800985.0   7044452.3  205293206.9  15982115.7  17985519.7   \n\nprice                                 \nasset               GLM         AVAX  \ntimestamp                             \n2017-08-17         0.00          0.0  \n2017-08-18         0.00          0.0  \n2017-08-19         0.00          0.0  \n2017-08-20         0.00          0.0  \n2017-08-21         0.00          0.0  \n...                 ...          ...  \n2023-12-24  12261699.03  305003397.0  \n2023-12-25  11114497.92  501529244.0  \n2023-12-26  12300095.38  427204990.0  \n2023-12-27   8972638.90  363959180.0  \n2023-12-28   8666574.97  433883179.0  \n\n[2325 rows x 95 columns]",
      "text/html": "<div>\n<style scoped>\n    .dataframe tbody tr th:only-of-type {\n        vertical-align: middle;\n    }\n\n    .dataframe tbody tr th {\n        vertical-align: top;\n    }\n\n    .dataframe thead tr th {\n        text-align: left;\n    }\n\n    .dataframe thead tr:last-of-type th {\n        text-align: right;\n    }\n</style>\n<table border=\"1\" class=\"dataframe\">\n  <thead>\n    <tr>\n      <th>price</th>\n      <th colspan=\"10\" halign=\"left\">open</th>\n      <th>...</th>\n      <th colspan=\"10\" halign=\"left\">volume</th>\n    </tr>\n    <tr>\n      <th>asset</th>\n      <th>BCH</th>\n      <th>BTC</th>\n      <th>ETH</th>\n      <th>NTRN</th>\n      <th>ADA</th>\n      <th>MATIC</th>\n      <th>RARE</th>\n      <th>C98</th>\n      <th>BNB</th>\n      <th>SOL</th>\n      <th>...</th>\n      <th>SOL</th>\n      <th>LQTY</th>\n      <th>HFT</th>\n      <th>ID</th>\n      <th>DOT</th>\n      <th>XRP</th>\n      <th>APE</th>\n      <th>HBAR</th>\n      <th>GLM</th>\n      <th>AVAX</th>\n    </tr>\n    <tr>\n      <th>timestamp</th>\n      <th></th>\n      <th></th>\n      <th></th>\n      <th></th>\n      <th></th>\n      <th></th>\n      <th></th>\n      <th></th>\n      <th></th>\n      <th></th>\n      <th></th>\n      <th></th>\n      <th></th>\n      <th></th>\n      <th></th>\n      <th></th>\n      <th></th>\n      <th></th>\n      <th></th>\n      <th></th>\n      <th></th>\n    </tr>\n  </thead>\n  <tbody>\n    <tr>\n      <th>2017-08-17</th>\n      <td>0.0000</td>\n      <td>0.000</td>\n      <td>0.00</td>\n      <td>0.0</td>\n      <td>0.0</td>\n      <td>4285.08</td>\n      <td>0.0000</td>\n      <td>0.000</td>\n      <td>302.00</td>\n      <td>0.0000</td>\n      <td>...</td>\n      <td>0.0</td>\n      <td>0.0</td>\n      <td>0.0</td>\n      <td>0.0</td>\n      <td>0.0</td>\n      <td>0.0</td>\n      <td>0.0</td>\n      <td>0.0</td>\n      <td>0.00</td>\n      <td>0.0</td>\n    </tr>\n    <tr>\n      <th>2017-08-18</th>\n      <td>0.0000</td>\n      <td>0.000</td>\n      <td>0.00</td>\n      <td>0.0</td>\n      <td>0.0</td>\n      <td>4108.37</td>\n      <td>0.0000</td>\n      <td>0.000</td>\n      <td>293.96</td>\n      <td>0.0000</td>\n      <td>...</td>\n      <td>0.0</td>\n      <td>0.0</td>\n      <td>0.0</td>\n      <td>0.0</td>\n      <td>0.0</td>\n      <td>0.0</td>\n      <td>0.0</td>\n      <td>0.0</td>\n      <td>0.00</td>\n      <td>0.0</td>\n    </tr>\n    <tr>\n      <th>2017-08-19</th>\n      <td>0.0000</td>\n      <td>0.000</td>\n      <td>0.00</td>\n      <td>0.0</td>\n      <td>0.0</td>\n      <td>4139.98</td>\n      <td>0.0000</td>\n      <td>0.000</td>\n      <td>290.91</td>\n      <td>0.0000</td>\n      <td>...</td>\n      <td>0.0</td>\n      <td>0.0</td>\n      <td>0.0</td>\n      <td>0.0</td>\n      <td>0.0</td>\n      <td>0.0</td>\n      <td>0.0</td>\n      <td>0.0</td>\n      <td>0.00</td>\n      <td>0.0</td>\n    </tr>\n    <tr>\n      <th>2017-08-20</th>\n      <td>0.0000</td>\n      <td>0.000</td>\n      <td>0.00</td>\n      <td>0.0</td>\n      <td>0.0</td>\n      <td>4086.29</td>\n      <td>0.0000</td>\n      <td>0.000</td>\n      <td>299.10</td>\n      <td>0.0000</td>\n      <td>...</td>\n      <td>0.0</td>\n      <td>0.0</td>\n      <td>0.0</td>\n      <td>0.0</td>\n      <td>0.0</td>\n      <td>0.0</td>\n      <td>0.0</td>\n      <td>0.0</td>\n      <td>0.00</td>\n      <td>0.0</td>\n    </tr>\n    <tr>\n      <th>2017-08-21</th>\n      <td>0.0000</td>\n      <td>0.000</td>\n      <td>0.00</td>\n      <td>0.0</td>\n      <td>0.0</td>\n      <td>4016.00</td>\n      <td>0.0000</td>\n      <td>0.000</td>\n      <td>323.29</td>\n      <td>0.0000</td>\n      <td>...</td>\n      <td>0.0</td>\n      <td>0.0</td>\n      <td>0.0</td>\n      <td>0.0</td>\n      <td>0.0</td>\n      <td>0.0</td>\n      <td>0.0</td>\n      <td>0.0</td>\n      <td>0.00</td>\n      <td>0.0</td>\n    </tr>\n    <tr>\n      <th>...</th>\n      <td>...</td>\n      <td>...</td>\n      <td>...</td>\n      <td>...</td>\n      <td>...</td>\n      <td>...</td>\n      <td>...</td>\n      <td>...</td>\n      <td>...</td>\n      <td>...</td>\n      <td>...</td>\n      <td>...</td>\n      <td>...</td>\n      <td>...</td>\n      <td>...</td>\n      <td>...</td>\n      <td>...</td>\n      <td>...</td>\n      <td>...</td>\n      <td>...</td>\n      <td>...</td>\n    </tr>\n    <tr>\n      <th>2023-12-24</th>\n      <td>0.5919</td>\n      <td>1.702</td>\n      <td>47.68</td>\n      <td>228.9</td>\n      <td>264.5</td>\n      <td>42991.50</td>\n      <td>0.3017</td>\n      <td>8.611</td>\n      <td>2264.05</td>\n      <td>0.2479</td>\n      <td>...</td>\n      <td>4596832.0</td>\n      <td>247203382.0</td>\n      <td>15947912.3</td>\n      <td>50390940.0</td>\n      <td>5332652.9</td>\n      <td>163945264.1</td>\n      <td>26722957.8</td>\n      <td>33730561.1</td>\n      <td>12261699.03</td>\n      <td>305003397.0</td>\n    </tr>\n    <tr>\n      <th>2023-12-25</th>\n      <td>0.6242</td>\n      <td>1.797</td>\n      <td>48.18</td>\n      <td>234.8</td>\n      <td>266.9</td>\n      <td>43576.13</td>\n      <td>0.2891</td>\n      <td>9.191</td>\n      <td>2271.35</td>\n      <td>0.2530</td>\n      <td>...</td>\n      <td>2183400.7</td>\n      <td>157809228.0</td>\n      <td>12783867.7</td>\n      <td>28675751.0</td>\n      <td>4330988.8</td>\n      <td>156671024.8</td>\n      <td>26195786.5</td>\n      <td>40686659.3</td>\n      <td>11114497.92</td>\n      <td>501529244.0</td>\n    </tr>\n    <tr>\n      <th>2023-12-26</th>\n      <td>0.6087</td>\n      <td>1.711</td>\n      <td>44.41</td>\n      <td>229.3</td>\n      <td>297.7</td>\n      <td>42508.93</td>\n      <td>0.3082</td>\n      <td>8.819</td>\n      <td>2230.88</td>\n      <td>0.2468</td>\n      <td>...</td>\n      <td>3408466.3</td>\n      <td>239716949.0</td>\n      <td>29207183.9</td>\n      <td>70437900.0</td>\n      <td>7530896.4</td>\n      <td>405110669.5</td>\n      <td>43424392.7</td>\n      <td>22809304.9</td>\n      <td>12300095.38</td>\n      <td>427204990.0</td>\n    </tr>\n    <tr>\n      <th>2023-12-27</th>\n      <td>0.6334</td>\n      <td>1.773</td>\n      <td>42.39</td>\n      <td>264.1</td>\n      <td>324.1</td>\n      <td>43428.85</td>\n      <td>0.2913</td>\n      <td>8.694</td>\n      <td>2378.35</td>\n      <td>0.2495</td>\n      <td>...</td>\n      <td>3171297.4</td>\n      <td>169753136.0</td>\n      <td>24177260.7</td>\n      <td>38202913.0</td>\n      <td>13366733.5</td>\n      <td>388820801.4</td>\n      <td>15804968.4</td>\n      <td>25570243.8</td>\n      <td>8972638.90</td>\n      <td>363959180.0</td>\n    </tr>\n    <tr>\n      <th>2023-12-28</th>\n      <td>0.6245</td>\n      <td>1.716</td>\n      <td>39.81</td>\n      <td>265.8</td>\n      <td>332.9</td>\n      <td>42581.74</td>\n      <td>0.2815</td>\n      <td>8.445</td>\n      <td>2367.19</td>\n      <td>0.2442</td>\n      <td>...</td>\n      <td>3042527.7</td>\n      <td>196524699.0</td>\n      <td>14692432.9</td>\n      <td>32800985.0</td>\n      <td>7044452.3</td>\n      <td>205293206.9</td>\n      <td>15982115.7</td>\n      <td>17985519.7</td>\n      <td>8666574.97</td>\n      <td>433883179.0</td>\n    </tr>\n  </tbody>\n</table>\n<p>2325 rows × 95 columns</p>\n</div>"
     },
     "execution_count": 132,
     "metadata": {},
     "output_type": "execute_result"
    }
   ],
   "source": [
    "df_"
   ],
   "metadata": {
    "collapsed": false,
    "ExecuteTime": {
     "end_time": "2023-12-29T17:33:48.845339Z",
     "start_time": "2023-12-29T17:33:48.822375Z"
    }
   },
   "id": "f70898569339b70e"
  },
  {
   "cell_type": "code",
   "execution_count": null,
   "outputs": [],
   "source": [],
   "metadata": {
    "collapsed": false
   },
   "id": "ce7566024d167af8"
  }
 ],
 "metadata": {
  "kernelspec": {
   "display_name": "Python 3",
   "language": "python",
   "name": "python3"
  },
  "language_info": {
   "codemirror_mode": {
    "name": "ipython",
    "version": 2
   },
   "file_extension": ".py",
   "mimetype": "text/x-python",
   "name": "python",
   "nbconvert_exporter": "python",
   "pygments_lexer": "ipython2",
   "version": "2.7.6"
  }
 },
 "nbformat": 4,
 "nbformat_minor": 5
}
